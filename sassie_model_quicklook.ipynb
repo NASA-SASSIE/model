{
 "cells": [
  {
   "cell_type": "markdown",
   "id": "3cc4b2eb-f189-4d4a-9814-f70e8ac03959",
   "metadata": {},
   "source": [
    "### load ECCO model output for SASSIE and make basic plots\n",
    "\n",
    "k.drushka // feb 2022\n",
    "\n",
    "data from: https://ecco-v4-python-tutorial.readthedocs.io/ECCO_v4_Plotting_Tiles.html\n",
    "\n",
    "download data by mounting ECCO Drive locally (Linux) and then copying files (e.g., May 01-09, 2011): \n",
    "```\n",
    "sudo mount.davfs https://ecco.jpl.nasa.gov/drive/files /mnt/ecco_drive/\n",
    "cd /mnt/ecco_drive/ECCO2/SASSIE/2011_demo/\n",
    "for d in * do\n",
    "cp -u $d/*_2011-05-0*.nc PATH-TO-YOUR-DATA-DRIVE/model/$d/\n",
    "done\n",
    "```\n",
    "\n",
    "\n",
    "some code to plot ECCO data from: https://ecco-v4-python-tutorial.readthedocs.io/ECCO_v4_Plotting_Tiles.html"
   ]
  },
  {
   "cell_type": "code",
   "execution_count": null,
   "id": "8f11fcea-e184-4a69-9a52-c9ca02e5a40b",
   "metadata": {},
   "outputs": [],
   "source": [
    "## Imports \n",
    "\n",
    "# Native packages\n",
    "from math import radians, degrees, sin, cos, asin, acos, sqrt\n",
    "import datetime\n",
    "import time\n",
    "import sys\n",
    "import os\n",
    "import glob as glob\n",
    "\n",
    "\n",
    "import numpy as np\n",
    "import pandas as pd\n",
    "import xarray as xr\n",
    "\n",
    "# from xgcm import Grid\n",
    "# import xgcm.grid\n",
    "\n",
    "# data visualizations\n",
    "import cartopy\n",
    "import cartopy.crs as ccrs\n",
    "import matplotlib.pyplot as plt\n",
    "import matplotlib.cm as cm\n",
    "from mpl_toolkits import mplot3d\n",
    "from mpl_toolkits.mplot3d import axes3d\n",
    "import matplotlib.ticker as mticker\n"
   ]
  },
  {
   "cell_type": "code",
   "execution_count": null,
   "id": "c17c44b9-df9c-4bcb-92a9-10387501cabd",
   "metadata": {},
   "outputs": [],
   "source": [
    "# local directory where data are stored\n",
    "basedir = '/data1/sassie/model/2011_demo/'"
   ]
  },
  {
   "cell_type": "code",
   "execution_count": null,
   "id": "f9ca4137-b2b9-4d56-a885-0cccd4eb2010",
   "metadata": {},
   "outputs": [],
   "source": [
    "# load files with xarray:\n",
    "\n",
    "# specify which var to open:\n",
    "thisvar = 'SALT'\n",
    "files = glob.glob(basedir + '/' + thisvar + '*_day_mean/*nc') \n",
    "print(files)                \n",
    "          "
   ]
  },
  {
   "cell_type": "code",
   "execution_count": null,
   "id": "3fce1cb6-8173-4c15-8938-229a4fdb6efd",
   "metadata": {},
   "outputs": [],
   "source": [
    "# load files\n",
    "# throws an error of decode_cf isn't specified \n",
    "ds = xr.open_mfdataset(files, combine='nested', concat_dim='time', decode_cf=False) \n",
    "# ds = xr.open_mfdataset(files, combine='nested', concat_dim='time') \n",
    "ds"
   ]
  },
  {
   "cell_type": "code",
   "execution_count": null,
   "id": "51ab56af-38f1-499c-95ef-ffc0dde53f4e",
   "metadata": {},
   "outputs": [],
   "source": [
    "# XC, YC, Z are the same for each time, so redefine them\n",
    "ds['XC'] = ds['XC'].isel(time=0)\n",
    "ds['YC'] = ds['YC'].isel(time=0)\n",
    "ds['Z'] = ds['Z'].isel(time=0)\n",
    "ds['Z_bot'] = ds['Z_bot'].isel(time=0)\n",
    "ds['Z_top'] = ds['Z_top'].isel(time=0)"
   ]
  },
  {
   "cell_type": "code",
   "execution_count": null,
   "id": "0ae3d568-1e1b-40d9-b1fa-90881860b3df",
   "metadata": {},
   "outputs": [],
   "source": [
    "# simple plot\n",
    "ds.SALT.isel(k=0, time=0, i=range(0,500), j=range(0,500)).plot(vmin=20, vmax=35)\n"
   ]
  },
  {
   "cell_type": "code",
   "execution_count": null,
   "id": "6230b249-6a5a-43eb-a547-f0b21c9cae86",
   "metadata": {},
   "outputs": [],
   "source": [
    "# limit to the beaufort - this is crude and imprecise, but works\n",
    "irange = slice(0, 500)\n",
    "jrange = slice(0, 500)\n",
    "ds = ds.sel(i=irange, j=jrange)\n",
    "ds"
   ]
  },
  {
   "cell_type": "code",
   "execution_count": null,
   "id": "62d7f532-6a98-4154-8a17-786f9a6ebebe",
   "metadata": {},
   "outputs": [],
   "source": [
    "# new plot to check the domain\n",
    "ds.SALT.isel(k=0, time=0).plot(vmin=20, vmax=35)"
   ]
  },
  {
   "cell_type": "code",
   "execution_count": null,
   "id": "5cce24d7-7409-47a6-a5f7-0fddaef2e775",
   "metadata": {},
   "outputs": [],
   "source": [
    "# nice plot using scatter\n",
    "\n",
    "# index of time and depth to plot\n",
    "ti = 0 \n",
    "zi = 0\n",
    "\n",
    "fig, ax1 = plt.subplots(1,1, \n",
    "        subplot_kw={'projection': ccrs.NorthPolarStereo(central_longitude=-150)}, \n",
    "        figsize=(6,6))\n",
    "\n",
    "pc = ax1.scatter(ds.XC.data, \n",
    "                 ds.YC.data, \n",
    "                 c=ds[thisvar].isel(k=zi, time=ti).data,\n",
    "                   transform=ccrs.PlateCarree(),\n",
    "                   vmin = 25,\n",
    "                   vmax = 35)\n",
    "\n",
    "#  ----- map stuff\n",
    "ax1.coastlines(color='none')  # coastline\n",
    "ax1.set_extent([-170, -130,68, 80], crs=ccrs.PlateCarree())\n",
    "gl = ax1.gridlines(draw_labels=True, dms=True, x_inline=False, y_inline=False, alpha=0.3)\n",
    "# ax1.set_title()\n",
    "plt.colorbar(pc, ax=ax1, orientation=\"horizontal\", pad=0.05).set_label(thisvar)\n",
    "# land color\n",
    "ax1.add_feature(cartopy.feature.LAND , facecolor=(.7,.7,.7))\n",
    "# ticks\n",
    "gl.ylocator = mticker.FixedLocator([68, 70, 72, 74, 76, 78])\n",
    "gl.xlocator = mticker.FixedLocator([-170, -160, -150, -140, -130])\n",
    "gl.top_labels = False\n",
    "gl.bottom_labels = True"
   ]
  },
  {
   "cell_type": "code",
   "execution_count": null,
   "id": "82b949b7-d42e-4541-b9f5-66077ce29bb8",
   "metadata": {},
   "outputs": [],
   "source": [
    "# or, plot with pcolor (much faster)\n",
    "lons = ds.XC\n",
    "lats = ds.YC\n",
    "# index of time and depth to plot\n",
    "ti = 0 \n",
    "zi = 0\n",
    "# mask zero data (assumed to be land) with nan\n",
    "data_to_plot = ds[thisvar].isel(k=zi, time=ti).where(ds.SALT.isel(k=zi, time=ti) !=0,np.nan)\n",
    "\n",
    "fig, ax1 = plt.subplots(1,1, \n",
    "        subplot_kw={'projection': ccrs.NorthPolarStereo(central_longitude=-150)}, \n",
    "        figsize=(6,6))\n",
    "\n",
    "plt.pcolormesh(lons, lats, data_to_plot,\n",
    "               transform=ccrs.PlateCarree(),\n",
    "              vmin=25, vmax=35);\n",
    "plt.colorbar()\n",
    "\n",
    "#  ----- map stuff\n",
    "ax1.coastlines(color='none')  # coastline\n",
    "ax1.set_extent([-170, -130,68, 80], crs=ccrs.PlateCarree())\n",
    "gl = ax1.gridlines(draw_labels=True, dms=True, x_inline=False, y_inline=False, alpha=0.3)\n",
    "# ax1.set_title()\n",
    "plt.colorbar(pc, ax=ax1, orientation=\"horizontal\", pad=0.05).set_label(thisvar)\n",
    "# land color\n",
    "ax1.add_feature(cartopy.feature.LAND , facecolor=(.7,.7,.7))\n",
    "# ticks\n",
    "gl.ylocator = mticker.FixedLocator([68, 70, 72, 74, 76, 78])\n",
    "gl.xlocator = mticker.FixedLocator([-170, -160, -150, -140, -130])\n",
    "gl.top_labels = False\n",
    "gl.bottom_labels = True\n",
    "\n"
   ]
  }
 ],
 "metadata": {
  "kernelspec": {
   "display_name": "Python 3 (ipykernel)",
   "language": "python",
   "name": "python3"
  },
  "language_info": {
   "codemirror_mode": {
    "name": "ipython",
    "version": 3
   },
   "file_extension": ".py",
   "mimetype": "text/x-python",
   "name": "python",
   "nbconvert_exporter": "python",
   "pygments_lexer": "ipython3",
   "version": "3.9.12"
  }
 },
 "nbformat": 4,
 "nbformat_minor": 5
}
